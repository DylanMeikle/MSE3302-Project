{
 "cells": [
  {
   "cell_type": "markdown",
   "metadata": {},
   "source": [
    "<center><b>MSE 3302 Report<br></b></center>\n",
    "<center><b>Miniature C-Arm Fluroscopy Machine<br></b></center>\n",
    "<!-- Don't know if it's an issue but the text isn't centered in github but the line break appears.\n",
    "Also, we won't need all this HTML formatting shit when we're just writing the report I think unless we want\n",
    "to change the font size or type-->\n",
    "\n",
    "\n",
    "<!-- Add your names and student numbers following this format-->\n",
    "<font size=\"-4\"><center>Dylan Meikle - 251237698<br></center></font>\n"
   ]
  },
  {
   "cell_type": "code",
   "execution_count": 11,
   "metadata": {},
   "outputs": [
    {
     "name": "stdout",
     "output_type": "stream",
     "text": [
      "There has to be a better way to write a report\n"
     ]
    }
   ],
   "source": [
    "print('There has to be a better way to write a report')"
   ]
  }
 ],
 "metadata": {
  "kernelspec": {
   "display_name": "Python 3",
   "language": "python",
   "name": "python3"
  },
  "language_info": {
   "codemirror_mode": {
    "name": "ipython",
    "version": 3
   },
   "file_extension": ".py",
   "mimetype": "text/x-python",
   "name": "python",
   "nbconvert_exporter": "python",
   "pygments_lexer": "ipython3",
   "version": "3.12.1"
  }
 },
 "nbformat": 4,
 "nbformat_minor": 2
}
