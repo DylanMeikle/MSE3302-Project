{
 "cells": [
  {
   "cell_type": "markdown",
   "metadata": {},
   "source": [
    "<center><b>MSE 3302 Report</b></center>\n",
    "<center><b>Miniature C-Arm Fluroscopy Machine</b></center>\n",
    "\n",
    "\n",
    "<!-- Add your names and student numbers following this format-->\n",
    "<!--What font does he want this report in?-->\n",
    "<font size=\"-4\"><center>Dylan Meikle - 251237698<br></center></font>\n"
   ]
  },
  {
   "cell_type": "code",
   "execution_count": 10,
   "metadata": {},
   "outputs": [
    {
     "name": "stdout",
     "output_type": "stream",
     "text": [
      "There has to be a better way to write a report\n"
     ]
    }
   ],
   "source": [
    "print('There has to be a better way to write a report')"
   ]
  }
 ],
 "metadata": {
  "kernelspec": {
   "display_name": "Python 3",
   "language": "python",
   "name": "python3"
  },
  "language_info": {
   "codemirror_mode": {
    "name": "ipython",
    "version": 3
   },
   "file_extension": ".py",
   "mimetype": "text/x-python",
   "name": "python",
   "nbconvert_exporter": "python",
   "pygments_lexer": "ipython3",
   "version": "3.12.1"
  }
 },
 "nbformat": 4,
 "nbformat_minor": 2
}
